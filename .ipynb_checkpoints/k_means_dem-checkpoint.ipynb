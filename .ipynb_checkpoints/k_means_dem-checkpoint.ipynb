{
 "cells": [
  {
   "cell_type": "code",
   "execution_count": 1,
   "metadata": {},
   "outputs": [
    {
     "name": "stdout",
     "output_type": "stream",
     "text": [
      "0.0045125\n"
     ]
    }
   ],
   "source": [
    "import numpy as np\n",
    "import matplotlib.pyplot as plt\n",
    "from sofa16qamlib import * #Llamamos nuestra librería\n",
    "\n",
    "num_sym = 20000\n",
    "sym_tx = np.random.choice(np.arange(0,16), size=num_sym) #Generamos indices de símbolos aleatorios (0,15)\n",
    "sig_tx=modulate(sym_tx) #modula\n",
    "\n",
    "Phi = 0 #ruido de fase\n",
    "Rot=0 #rotación\n",
    "SNR=15\n",
    "errv=[]\n",
    "\n",
    "sig_rx=noiselnl(sig_tx,SNR,Phi,Rot) #agrega ruido\n",
    "\n",
    "\n",
    "sym_rx=demodulate(sig_rx)           #demodula\n",
    "errores=biterr(sym_rx,sym_tx)       #conteo de errores de bit\n",
    "BER_tra=(errores/(num_sym*4))    #divide por la cantidad total de bits\n",
    "print(BER_tra)\n"
   ]
  },
  {
   "cell_type": "code",
   "execution_count": null,
   "metadata": {},
   "outputs": [],
   "source": [
    "from scipy.cluster.vq import kmeans, vq\n",
    "\n",
    "centroids, distortion = kmeans(sig_rx, initc)\n",
    "\n",
    "syms_kmeans, distance = vq(sig_rx, centroids)"
   ]
  }
 ],
 "metadata": {
  "kernelspec": {
   "display_name": "Python 3",
   "language": "python",
   "name": "python3"
  },
  "language_info": {
   "codemirror_mode": {
    "name": "ipython",
    "version": 3
   },
   "file_extension": ".py",
   "mimetype": "text/x-python",
   "name": "python",
   "nbconvert_exporter": "python",
   "pygments_lexer": "ipython3",
   "version": "3.8.3"
  }
 },
 "nbformat": 4,
 "nbformat_minor": 4
}
